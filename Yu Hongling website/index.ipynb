{
  "cells": [
    {
      "cell_type": "markdown",
      "metadata": {},
      "source": [
        "# Yu Hongling\n",
        "\n",
        "# my website!\n",
        "\n",
        "## —–BSU，EM24-A，Yu Hongling\n",
        "\n",
        "#### —-I’m from Chongqing, I like spicy food"
      ],
      "id": "01fdc20a-9720-4f84-a0df-9ea99ec3ed6a"
    }
  ],
  "nbformat": 4,
  "nbformat_minor": 5,
  "metadata": {
    "kernelspec": {
      "display_name": "Python 3",
      "language": "python",
      "name": "python3"
    }
  }
}